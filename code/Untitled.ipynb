{
 "cells": [
  {
   "cell_type": "code",
   "execution_count": 1,
   "id": "371cee55-32f5-4ca6-852b-6f17181d0106",
   "metadata": {},
   "outputs": [],
   "source": [
    "from pathlib import Path\n",
    "project_path = Path.cwd().parent"
   ]
  },
  {
   "cell_type": "code",
   "execution_count": 2,
   "id": "cdc8a6cf-3f9a-4d64-a6bf-9f5682ddb334",
   "metadata": {},
   "outputs": [],
   "source": [
    "config = {\n",
    "    'main_brazil': 'Brazil',\n",
    "    'main_peru': 'Peru',\n",
    "    'baseline': project_path / \"baseline_models\",\n",
    "    'output': project_path / \"code\" / \"saved_models\",\n",
    "    'metrics': project_path / \"code\" / \"metrics\"\n",
    "}\n"
   ]
  },
  {
   "cell_type": "code",
   "execution_count": null,
   "id": "fb9802b4-6249-43f6-84d1-0931e096bdef",
   "metadata": {},
   "outputs": [],
   "source": []
  }
 ],
 "metadata": {
  "kernelspec": {
   "display_name": "Python 3 (ipykernel)",
   "language": "python",
   "name": "python3"
  },
  "language_info": {
   "codemirror_mode": {
    "name": "ipython",
    "version": 3
   },
   "file_extension": ".py",
   "mimetype": "text/x-python",
   "name": "python",
   "nbconvert_exporter": "python",
   "pygments_lexer": "ipython3",
   "version": "3.12.7"
  }
 },
 "nbformat": 4,
 "nbformat_minor": 5
}
